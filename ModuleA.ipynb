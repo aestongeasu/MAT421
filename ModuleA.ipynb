{
  "nbformat": 4,
  "nbformat_minor": 0,
  "metadata": {
    "colab": {
      "provenance": [],
      "authorship_tag": "ABX9TyMyZGBF0PjAfoY9C1CkQSXZ",
      "include_colab_link": true
    },
    "kernelspec": {
      "name": "python3",
      "display_name": "Python 3"
    },
    "language_info": {
      "name": "python"
    }
  },
  "cells": [
    {
      "cell_type": "markdown",
      "metadata": {
        "id": "view-in-github",
        "colab_type": "text"
      },
      "source": [
        "<a href=\"https://colab.research.google.com/github/aestongeasu/MAT421/blob/main/ModuleA.ipynb\" target=\"_parent\"><img src=\"https://colab.research.google.com/assets/colab-badge.svg\" alt=\"Open In Colab\"/></a>"
      ]
    },
    {
      "cell_type": "markdown",
      "source": [
        "Write a function my_bin_2_dec(b) where b is binary number represented by a list of ones and zeros. The last element of b represents the coefficient of 2^0, the second-to-last element of b represents the coefficient of 2^1, and so on. The output variable, d, should be the decimal representation of b. The test cases are provided below."
      ],
      "metadata": {
        "id": "Fg-KEO69Woau"
      }
    },
    {
      "cell_type": "code",
      "source": [
        "def my_bin_2_dec(b):\n",
        "    size = len(b) - 1 \n",
        "    d = 0\n",
        "    for x in b:\n",
        "      temp = x*(2**size)\n",
        "      d = d + temp\n",
        "      size = size - 1\n",
        "    return d\n"
      ],
      "metadata": {
        "id": "UG2UxfShXD29"
      },
      "execution_count": 29,
      "outputs": []
    },
    {
      "cell_type": "code",
      "source": [
        "my_bin_2_dec([1]*25)"
      ],
      "metadata": {
        "colab": {
          "base_uri": "https://localhost:8080/"
        },
        "id": "QgAnmCphZ2TB",
        "outputId": "e951c37d-f530-4235-8250-ca5757bd79fe"
      },
      "execution_count": 30,
      "outputs": [
        {
          "output_type": "execute_result",
          "data": {
            "text/plain": [
              "33554431"
            ]
          },
          "metadata": {},
          "execution_count": 30
        }
      ]
    },
    {
      "cell_type": "code",
      "source": [
        "my_bin_2_dec([1, 1, 1])"
      ],
      "metadata": {
        "colab": {
          "base_uri": "https://localhost:8080/"
        },
        "id": "T0bia6grZzwa",
        "outputId": "296d8e33-1d41-4894-dc3b-d560cb1f0605"
      },
      "execution_count": 31,
      "outputs": [
        {
          "output_type": "execute_result",
          "data": {
            "text/plain": [
              "7"
            ]
          },
          "metadata": {},
          "execution_count": 31
        }
      ]
    },
    {
      "cell_type": "code",
      "source": [
        "my_bin_2_dec([1, 0, 1, 0, 1, 0, 1])"
      ],
      "metadata": {
        "colab": {
          "base_uri": "https://localhost:8080/"
        },
        "id": "a0WaTmy6Z0Vw",
        "outputId": "fd7ab9b1-54f5-4ec4-bdae-69c53e46b0c2"
      },
      "execution_count": 32,
      "outputs": [
        {
          "output_type": "execute_result",
          "data": {
            "text/plain": [
              "85"
            ]
          },
          "metadata": {},
          "execution_count": 32
        }
      ]
    },
    {
      "cell_type": "markdown",
      "source": [
        "Write a function my_dec_2_bin(d), where d is a positive integer in decimal, and b is the binary representation of d. The output b must be a list of ones and zeros, and the leading term must be a 1 unless the decimal input value is 0. The test cases are provided below."
      ],
      "metadata": {
        "id": "7zocYzvsbflw"
      }
    },
    {
      "cell_type": "code",
      "source": [
        "def my_dec_2_bin(d):\n",
        "    b = []\n",
        "    if d == 0:\n",
        "      return [0]\n",
        "    while d != 0:\n",
        "      if d%2 == 0:\n",
        "        d = d/2\n",
        "        b = [0] + b\n",
        "      else:\n",
        "        b = [1] + b   \n",
        "    return b"
      ],
      "metadata": {
        "id": "MkGrH4DXbbKH"
      },
      "execution_count": 49,
      "outputs": []
    },
    {
      "cell_type": "code",
      "source": [
        "# Output: [0]\n",
        "my_dec_2_bin(0)"
      ],
      "metadata": {
        "colab": {
          "base_uri": "https://localhost:8080/"
        },
        "id": "e_DHbsWBbkr9",
        "outputId": "55cffa5e-0a16-418f-d5e2-059f3ea7e47f"
      },
      "execution_count": 42,
      "outputs": [
        {
          "output_type": "execute_result",
          "data": {
            "text/plain": [
              "[0]"
            ]
          },
          "metadata": {},
          "execution_count": 42
        }
      ]
    },
    {
      "cell_type": "code",
      "source": [
        "# Output: [1, 0, 1, 1, 1]\n",
        "my_dec_2_bin(23)"
      ],
      "metadata": {
        "colab": {
          "base_uri": "https://localhost:8080/"
        },
        "id": "yfm4UsmjboQF",
        "outputId": "9ae4bffa-380c-4682-f9a5-1476982a0c13"
      },
      "execution_count": 45,
      "outputs": [
        {
          "output_type": "stream",
          "name": "stdout",
          "text": [
            "11\n",
            "5\n",
            "2\n",
            "0.0\n"
          ]
        },
        {
          "output_type": "execute_result",
          "data": {
            "text/plain": [
              "[1, 0, 1, 1, 1]"
            ]
          },
          "metadata": {},
          "execution_count": 45
        }
      ]
    },
    {
      "cell_type": "code",
      "source": [
        "# Output: [1, 0, 0, 0, 0, 0, 1, 1, 0, 0, 0, 1]\n",
        "my_dec_2_bin(2097)"
      ],
      "metadata": {
        "colab": {
          "base_uri": "https://localhost:8080/"
        },
        "id": "e7m6QgAobqne",
        "outputId": "fd6bb8c7-873b-4d10-962c-3d9d02d99c5a"
      },
      "execution_count": 46,
      "outputs": [
        {
          "output_type": "stream",
          "name": "stdout",
          "text": [
            "1048\n",
            "65.0\n",
            "32.0\n",
            "0.0\n"
          ]
        },
        {
          "output_type": "execute_result",
          "data": {
            "text/plain": [
              "[1, 0, 0, 0, 0, 0, 1, 1, 0, 0, 0, 1]"
            ]
          },
          "metadata": {},
          "execution_count": 46
        }
      ]
    },
    {
      "cell_type": "markdown",
      "source": [
        "Write a function my_ieee_2_dec(ieee), where ieee is a string contains 64 characters of ones and zeros representing a 64-bit IEEE754 number. The output should be d, the equivalent decimal representation of ieee. The input variable ieee will always be a 64-element string of ones and zeros defining a 64-bit float."
      ],
      "metadata": {
        "id": "F9OoevFin1GT"
      }
    },
    {
      "cell_type": "code",
      "source": [
        "def my_ieee_2_dec(ieee):\n",
        "    exponent = ieee[1:12]\n",
        "    exponentlist = [int(x) for x in str(exponent)]\n",
        "    exponent = my_bin_2_dec(exponentlist) - 1023\n",
        "    fraction = ieee[12:]\n",
        "    size = 1\n",
        "    f = 0\n",
        "    for i in fraction:\n",
        "        if i == '1':\n",
        "          f = f + (1 / (2**size))\n",
        "        size = size + 1\n",
        "    d = ((-1)**int(ieee[0]))*(2**exponent)*(1 + f)\n",
        "    return d"
      ],
      "metadata": {
        "id": "A9vbG13wn1v_"
      },
      "execution_count": 60,
      "outputs": []
    },
    {
      "cell_type": "code",
      "source": [
        "# Output: -48\n",
        "ieee = '1100000001001000000000000000000000000000000000000000000000000000'\n",
        "my_ieee_2_dec(ieee)"
      ],
      "metadata": {
        "colab": {
          "base_uri": "https://localhost:8080/"
        },
        "id": "nfXBod5drTob",
        "outputId": "9f7d543d-d37a-4ce1-bf95-cbc0abcff069"
      },
      "execution_count": 61,
      "outputs": [
        {
          "output_type": "execute_result",
          "data": {
            "text/plain": [
              "-48.0"
            ]
          },
          "metadata": {},
          "execution_count": 61
        }
      ]
    },
    {
      "cell_type": "code",
      "source": [
        "# Output: 3.39999999999999991118215802999\n",
        "ieee = '0100000000001011001100110011001100110011001100110011001100110011'\n",
        "my_ieee_2_dec(ieee)"
      ],
      "metadata": {
        "colab": {
          "base_uri": "https://localhost:8080/"
        },
        "id": "bSuwh88TsNCD",
        "outputId": "37d49df2-a313-44c6-9398-9388be14d311"
      },
      "execution_count": 62,
      "outputs": [
        {
          "output_type": "execute_result",
          "data": {
            "text/plain": [
              "3.4"
            ]
          },
          "metadata": {},
          "execution_count": 62
        }
      ]
    }
  ]
}