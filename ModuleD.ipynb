{
  "nbformat": 4,
  "nbformat_minor": 0,
  "metadata": {
    "colab": {
      "provenance": [],
      "authorship_tag": "ABX9TyOoZkEUmvV1M0v4PeWZ/FiG",
      "include_colab_link": true
    },
    "kernelspec": {
      "name": "python3",
      "display_name": "Python 3"
    },
    "language_info": {
      "name": "python"
    }
  },
  "cells": [
    {
      "cell_type": "markdown",
      "metadata": {
        "id": "view-in-github",
        "colab_type": "text"
      },
      "source": [
        "<a href=\"https://colab.research.google.com/github/aestongeasu/MAT421/blob/main/ModuleD.ipynb\" target=\"_parent\"><img src=\"https://colab.research.google.com/assets/colab-badge.svg\" alt=\"Open In Colab\"/></a>"
      ]
    },
    {
      "cell_type": "markdown",
      "source": [
        "Write a function my_is_orthogonal(v1,v2, tol), where v1\n",
        " and v2\n",
        " are column vectors of the same size and tol\n",
        " is a scalar value strictly larger than 0. The output should be 1 if the angle between v1\n",
        " and v2\n",
        " is within tol of π/2\n",
        "; that is, |π/2−θ|<tol\n",
        ", and 0 otherwise. You may assume that v1\n",
        " and v2\n",
        " are column vectors of the same size, and that tol\n",
        " is a positive scalar."
      ],
      "metadata": {
        "id": "0Hs06rR7uyS7"
      }
    },
    {
      "cell_type": "code",
      "source": [
        "import numpy as np\n",
        "import math\n",
        "def my_is_orthogonal(v1,v2,tol):\n",
        "  magv1 = math.sqrt(sum(pow(x, 2) for x in v1))\n",
        "  magv2 = math.sqrt(sum(pow(x, 2) for x in v2))\n",
        " # print(magv1)\n",
        " # print(magv2)\n",
        "  theta = np.arccos((np.dot(v1,v2))/(magv1 * magv2))\n",
        "  if abs((math.pi/2)-theta) < tol:\n",
        "    return 1\n",
        "  else:\n",
        "    return 0"
      ],
      "metadata": {
        "id": "Im9h-FFsu1eI"
      },
      "execution_count": null,
      "outputs": []
    },
    {
      "cell_type": "code",
      "source": [
        "# Test cases for problem 2\n",
        "a = np.array([1, 0.001])\n",
        "b = np.array([0.001, 1])\n",
        "# output: 1\n",
        "print(my_is_orthogonal(a,b, 0.01))\n",
        "# output: 0\n",
        "print(my_is_orthogonal(a,b, 0.001))\n",
        "\n",
        "# output: 0\n",
        "a = np.array([1, 0.001])\n",
        "b = np.array([1, 1])\n",
        "print(my_is_orthogonal(a,b, 0.01))\n",
        "\n",
        "# output: 1\n",
        "a = np.array([1, 1])\n",
        "b = np.array([-1, 1])\n",
        "print(my_is_orthogonal(a,b, 1e-10))"
      ],
      "metadata": {
        "id": "2ZtTWKeQxTxE",
        "colab": {
          "base_uri": "https://localhost:8080/"
        },
        "outputId": "93e9f270-2c99-4d7f-a526-465ec63a8403"
      },
      "execution_count": null,
      "outputs": [
        {
          "output_type": "stream",
          "name": "stdout",
          "text": [
            "1\n",
            "0\n",
            "0\n",
            "1\n"
          ]
        }
      ]
    },
    {
      "cell_type": "markdown",
      "source": [
        "Write a function my_make_lin_ind(A), where A\n",
        " and B\n",
        " are matrices. Let the rank(A)=n\n",
        ". Then B\n",
        " should be a matrix containing the first n\n",
        " columns of A\n",
        " that are all linearly independent. Note that this implies that B\n",
        " is full rank."
      ],
      "metadata": {
        "id": "fFHa1lXLU-9_"
      }
    },
    {
      "cell_type": "code",
      "source": [
        "import numpy as np\n",
        "def my_make_lin_ind(A):\n",
        "  B = []\n",
        "  rows = len(A)\n",
        "  cols = len(A[0])\n",
        " # n = np.linalg.matrix_rank(A)\n",
        "  temp = 1\n",
        "  itr = 0\n",
        "  while itr < cols:\n",
        "    temp2 = A[:,1:itr]\n",
        "    if np.linalg.matrix_rank(temp2) == temp:\n",
        "      B[:,temp] = A[:,itr]\n",
        "      temp = temp + 1\n",
        "    itr = itr + 1 \n",
        "\n",
        "  return B"
      ],
      "metadata": {
        "id": "hwgglNfLU_ki"
      },
      "execution_count": null,
      "outputs": []
    }
  ]
}