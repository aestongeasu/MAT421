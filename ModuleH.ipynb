{
  "nbformat": 4,
  "nbformat_minor": 0,
  "metadata": {
    "colab": {
      "provenance": [],
      "authorship_tag": "ABX9TyOa5WssoN2QgCndMDc+MYAH",
      "include_colab_link": true
    },
    "kernelspec": {
      "name": "python3",
      "display_name": "Python 3"
    },
    "language_info": {
      "name": "python"
    }
  },
  "cells": [
    {
      "cell_type": "markdown",
      "metadata": {
        "id": "view-in-github",
        "colab_type": "text"
      },
      "source": [
        "<a href=\"https://colab.research.google.com/github/aestongeasu/MAT421/blob/main/ModuleH.ipynb\" target=\"_parent\"><img src=\"https://colab.research.google.com/assets/colab-badge.svg\" alt=\"Open In Colab\"/></a>"
      ]
    },
    {
      "cell_type": "markdown",
      "source": [
        "Write a function my_forward_euler(ds,t_span,s0)\n",
        ", where ds is a function object, f(t,s)\n",
        ", describing a first-order differential equation, t_span\n",
        " is an array of times for which numerical solutions of the differential equation are desired, and s0 is the initial condition of the system. Assume that the size of the state is one. The output argument should be a list of [t, s], such that t[i]=t_span[i]\n",
        " for all i\n",
        ", and s\n",
        " should be the integrated values of ds at times t. You should perform the integration using the Forward Euler method, s[ti]=s[ti−1]+(ti−ti−1)ds(ti−1,s[ti−1])\n",
        ". Note: s[0]\n",
        " should equal s0\n",
        "."
      ],
      "metadata": {
        "id": "GzqqJLEjsH9O"
      }
    },
    {
      "cell_type": "code",
      "execution_count": 80,
      "metadata": {
        "id": "UgNu-YTHsEg3"
      },
      "outputs": [],
      "source": [
        "import numpy as np\n",
        "def my_forward_euler(ds, t_span, s0):\n",
        "  S = []\n",
        "  S.insert(0, s0)\n",
        "  # print(t_span)\n",
        "  # print(t_span[len(t_span)-1])\n",
        "  # print(t_span[0])\n",
        "  h = (t_span[len(t_span)-1] * t_span[1]) / (len(t_span) - 1)\n",
        "  #print(h)\n",
        "  i = 0;\n",
        "  #print(ds(t_span, S[i]))\n",
        "  for i in range(0, (len(t_span)-1)):\n",
        "    S.append(((S[i] + h * ds(t_span, S[i]))))\n",
        "    #print(x)\n",
        "  print(t_span.transpose())\n",
        "  print(S[0])\n",
        "  for x in range(1, len(S)-1):\n",
        "    print(S[x][x])\n",
        "  ret = [t_span.transpose(), S]"
      ]
    },
    {
      "cell_type": "code",
      "source": [
        "import numpy as np\n",
        "t_span = np.linspace(0, 1, 10)\n",
        "s0 = 1\n",
        "\n",
        "# Define parameters\n",
        "f = lambda t, s: t*np.exp(-s)\n",
        "\n",
        "my_forward_euler(f, t_span, s0)\n"
      ],
      "metadata": {
        "colab": {
          "base_uri": "https://localhost:8080/"
        },
        "id": "Io1Wvik4uqtm",
        "outputId": "b1b9d513-6eb9-4aba-9bf0-4d05f70b6a89"
      },
      "execution_count": 81,
      "outputs": [
        {
          "output_type": "stream",
          "name": "stdout",
          "text": [
            "[0.         0.11111111 0.22222222 0.33333333 0.44444444 0.55555556\n",
            " 0.66666667 0.77777778 0.88888889 1.        ]\n",
            "1\n",
            "1.0005046357217715\n",
            "1.0020175247721028\n",
            "1.0045348578743636\n",
            "1.0080498145791554\n",
            "1.0125526276487649\n",
            "1.0180306760802793\n",
            "1.0244686048985616\n",
            "1.0318484693380072\n"
          ]
        }
      ]
    }
  ]
}