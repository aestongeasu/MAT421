{
  "nbformat": 4,
  "nbformat_minor": 0,
  "metadata": {
    "colab": {
      "provenance": [],
      "authorship_tag": "ABX9TyNV3YP2WQalqR8vrwYFUHeA",
      "include_colab_link": true
    },
    "kernelspec": {
      "name": "python3",
      "display_name": "Python 3"
    },
    "language_info": {
      "name": "python"
    }
  },
  "cells": [
    {
      "cell_type": "markdown",
      "metadata": {
        "id": "view-in-github",
        "colab_type": "text"
      },
      "source": [
        "<a href=\"https://colab.research.google.com/github/aestongeasu/MAT421/blob/main/ModuleC.ipynb\" target=\"_parent\"><img src=\"https://colab.research.google.com/assets/colab-badge.svg\" alt=\"Open In Colab\"/></a>"
      ]
    },
    {
      "cell_type": "markdown",
      "source": [
        "Write a function my_nth_root(x,n,tol)\n",
        ", where x\n",
        " and tol\n",
        " are strictly positive scalars, and n\n",
        " is an integer strictly greater than 1. The output argument, r\n",
        ", should be an approximation r=x−−√N\n",
        ", the N\n",
        "-th root of x\n",
        ". This approximation should be computed by using the Newton Raphson method to find the root of the function f(y)=yN−x\n",
        ". The error metric should be |f(y)|\n",
        "."
      ],
      "metadata": {
        "id": "_Rly5suLQcGP"
      }
    },
    {
      "cell_type": "code",
      "execution_count": 2,
      "metadata": {
        "id": "JALMpDBKQVzl"
      },
      "outputs": [],
      "source": [
        "def my_newton(f, df, x0, tol): # given in the textbook\n",
        "    # output is an estimation of the root of f \n",
        "    # using the Newton Raphson method\n",
        "    # recursive implementation\n",
        "    if abs(f(x0)) < tol:\n",
        "        return x0\n",
        "    else:\n",
        "        return my_newton(f, df, x0 - f(x0)/df(x0), tol)\n",
        "  \n",
        "def my_nth_root(x, n, tol):\n",
        "  function = lambda y: y**n-x\n",
        "  prime = lambda y: n*(y**(n-1))\n",
        "  r = my_newton(function, prime, 1, tol)\n",
        "  return r\n"
      ]
    },
    {
      "cell_type": "code",
      "source": [
        "my_nth_root(2, 2, 1e-6)\n",
        "my_nth_root(5, 3, 1e-6)"
      ],
      "metadata": {
        "colab": {
          "base_uri": "https://localhost:8080/"
        },
        "id": "ubvOX_2vTbAp",
        "outputId": "6a99bbbb-b1e4-455f-f911-08bb706df8c3"
      },
      "execution_count": 4,
      "outputs": [
        {
          "output_type": "execute_result",
          "data": {
            "text/plain": [
              "1.709975950782189"
            ]
          },
          "metadata": {},
          "execution_count": 4
        }
      ]
    },
    {
      "cell_type": "markdown",
      "source": [
        "Write a function my_pipe_builder(C_ocean,C_land,L,H)\n",
        ", where the input arguments are as described earlier, and x\n",
        " is the x-value that minimizes the total cost of the pipeline. You should use the bisection method to determine this value to within a tolerance of 1×10−6\n",
        " starting at an initial bound of a=0\n",
        " and b=L"
      ],
      "metadata": {
        "id": "Nb4TdOteQ4-d"
      }
    },
    {
      "cell_type": "code",
      "source": [
        "import math\n",
        "import numpy as np\n",
        "import numpy as np\n",
        "\n",
        "def my_bisection(f, a, b, tol):                 # given in textbook\n",
        "    # approximates a root, R, of f bounded \n",
        "    # by a and b to within tolerance \n",
        "    # | f(m) | < tol with m the midpoint \n",
        "    # between a and b Recursive implementation\n",
        "    \n",
        "    # check if a and b bound a root\n",
        "    if np.sign(f(a)) == np.sign(f(b)):\n",
        "        raise Exception(\n",
        "         \"The scalars a and b do not bound a root\")\n",
        "        \n",
        "    # get midpoint\n",
        "    m = (a + b)/2\n",
        "    \n",
        "    if np.abs(f(m)) < tol:\n",
        "        # stopping condition, report m as root\n",
        "        return m\n",
        "    elif np.sign(f(a)) == np.sign(f(m)):\n",
        "        # case where m is an improvement on a. \n",
        "        # Make recursive call with a = m\n",
        "        return my_bisection(f, m, b, tol)\n",
        "    elif np.sign(f(b)) == np.sign(f(m)):\n",
        "        # case where m is an improvement on b. \n",
        "        # Make recursive call with b = m\n",
        "        return my_bisection(f, a, m, tol)\n",
        "\n",
        "def my_pipe_builder(C_Ocean, C_Land, L, H):\n",
        "  tol = 1e-6\n",
        "  a = 0\n",
        "  b = L\n",
        "  cost = lambda x: C_Ocean*(math.sqrt(np.square(H) + np.square(x))) + C_Land*(L - x)\n",
        "  maximized = my_bisection(cost, a, b, tol)\n",
        "  return maximized\n",
        "\n",
        "\n"
      ],
      "metadata": {
        "id": "XsCOAM2EQ5j7"
      },
      "execution_count": 10,
      "outputs": []
    }
  ]
}