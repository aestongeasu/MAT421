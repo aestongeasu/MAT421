{
  "nbformat": 4,
  "nbformat_minor": 0,
  "metadata": {
    "colab": {
      "provenance": [],
      "authorship_tag": "ABX9TyPauc9M6lJB1bzhQnJIka7i",
      "include_colab_link": true
    },
    "kernelspec": {
      "name": "python3",
      "display_name": "Python 3"
    },
    "language_info": {
      "name": "python"
    }
  },
  "cells": [
    {
      "cell_type": "markdown",
      "metadata": {
        "id": "view-in-github",
        "colab_type": "text"
      },
      "source": [
        "<a href=\"https://colab.research.google.com/github/aestongeasu/MAT421/blob/main/ModuleE.ipynb\" target=\"_parent\"><img src=\"https://colab.research.google.com/assets/colab-badge.svg\" alt=\"Open In Colab\"/></a>"
      ]
    },
    {
      "cell_type": "code",
      "execution_count": 34,
      "metadata": {
        "id": "NnF4WJogn3qe"
      },
      "outputs": [],
      "source": [
        "from sympy import *\n",
        "\n",
        "def continuity_check(f, lambdaf, a):\n",
        "  x = symbols('x')\n",
        "  lim = limit(f, x, a)\n",
        "  #print((lim))\n",
        "  try :\n",
        "    val = lambdaf(a)\n",
        "  except:\n",
        "    return False\n",
        "  #print(val)\n",
        "  if val == lim.evalf():\n",
        "    return True\n",
        "  else: \n",
        "    return False\n"
      ]
    },
    {
      "cell_type": "code",
      "source": [
        "x = symbols('x')\n",
        "func = ((4*x + 5)/(9 - 3*x))\n",
        "lambdafunc = lambda x:  ((4*x + 5)/(9 - 3*x))\n",
        "print(continuity_check(func,lambdafunc, -1));\n",
        "print(continuity_check(func,lambdafunc, 0));\n",
        "print(continuity_check(func,lambdafunc, 3));\n"
      ],
      "metadata": {
        "colab": {
          "base_uri": "https://localhost:8080/"
        },
        "id": "KW2avJ78pKmI",
        "outputId": "f02e2b39-cde1-457e-c3d2-8450f9403298"
      },
      "execution_count": 35,
      "outputs": [
        {
          "output_type": "stream",
          "name": "stdout",
          "text": [
            "True\n",
            "True\n",
            "False\n"
          ]
        }
      ]
    },
    {
      "cell_type": "code",
      "source": [],
      "metadata": {
        "id": "ya756JEPstbp"
      },
      "execution_count": 36,
      "outputs": []
    },
    {
      "cell_type": "code",
      "source": [],
      "metadata": {
        "colab": {
          "base_uri": "https://localhost:8080/"
        },
        "id": "eRFXHZmes9YO",
        "outputId": "d4f0c180-7871-4dc3-e637-7b581fb7b65e"
      },
      "execution_count": 39,
      "outputs": [
        {
          "output_type": "execute_result",
          "data": {
            "text/plain": [
              "107.0"
            ]
          },
          "metadata": {},
          "execution_count": 39
        }
      ]
    }
  ]
}