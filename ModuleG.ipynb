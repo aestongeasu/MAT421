{
  "nbformat": 4,
  "nbformat_minor": 0,
  "metadata": {
    "colab": {
      "provenance": [],
      "authorship_tag": "ABX9TyMMiRyF3qnsQpBZZKBOWEnC",
      "include_colab_link": true
    },
    "kernelspec": {
      "name": "python3",
      "display_name": "Python 3"
    },
    "language_info": {
      "name": "python"
    }
  },
  "cells": [
    {
      "cell_type": "markdown",
      "metadata": {
        "id": "view-in-github",
        "colab_type": "text"
      },
      "source": [
        "<a href=\"https://colab.research.google.com/github/aestongeasu/MAT421/blob/main/ModuleG.ipynb\" target=\"_parent\"><img src=\"https://colab.research.google.com/assets/colab-badge.svg\" alt=\"Open In Colab\"/></a>"
      ]
    },
    {
      "cell_type": "markdown",
      "source": [
        "Write a function my_int_calc(f,f0,a,b,N,option), where f is a function object, a\n",
        "and b are scalars such that a < b, N is a positive integer, and option is the string ‘rect’, ‘trap’, or ‘simp’. Let x be an array starting at a, ending at b, containing N evenly spaced elements. The output argument, I, should be an approximation to the integral of f(x), with initial condition f0, computed according to the input argument, option."
      ],
      "metadata": {
        "id": "stSR2O6QCscN"
      }
    },
    {
      "cell_type": "code",
      "execution_count": 18,
      "metadata": {
        "id": "why-CDSwCpbg"
      },
      "outputs": [],
      "source": [
        "import numpy as np \n",
        "\n",
        "def my_int_calc(f, f0, a, b, N, option):\n",
        "  Isum = 0\n",
        "  x = np.linspace(a, b, N)\n",
        "  h = (b - a)/(N - 1)\n",
        "  f = f(x)\n",
        "\n",
        "  if(option == 'rect'):\n",
        "    Isum = h * sum(f[1::])\n",
        "  elif(option == 'trap'):\n",
        "    return (h / 2) * (f[0] + 2 * sum(f[1:N - 1]) + f[N - 1])\n",
        "  elif(option == 'simp'):\n",
        "    Isum = (h / 3) * (f[0] + 2 * sum(f[:N - 2:2]) + 4 * sum(f[1:N - 1:2]) + f[N - 1])\n",
        "    \n",
        "  Isum = Isum + f0\n",
        "  print(Isum)\n"
      ]
    },
    {
      "cell_type": "code",
      "source": [
        "f = lambda x: x**2\n",
        "my_int_calc(f, 0, 1, 3, 99, 'rect')\n",
        "\n",
        "my_int_calc(f, 0, 1, 3, 99, 'trap')\n",
        "\n",
        "my_int_calc(f, 0, 1, 3, 99, 'simp')\n",
        "\n"
      ],
      "metadata": {
        "colab": {
          "base_uri": "https://localhost:8080/"
        },
        "id": "NenTUIwWFFAV",
        "outputId": "e2fe94cb-6935-4ed5-a789-5acd79e56344"
      },
      "execution_count": 30,
      "outputs": [
        {
          "output_type": "stream",
          "name": "stdout",
          "text": [
            "8.74843815077051\n",
            "8.680272108843537\n"
          ]
        }
      ]
    }
  ]
}